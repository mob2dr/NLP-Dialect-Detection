{
  "cells": [
    {
      "cell_type": "markdown",
      "metadata": {
        "id": "PO6ZSC1jfZPO"
      },
      "source": [
        "#Data Extraction\n",
        "### Here we have \"dialects_database.db\""
      ]
    },
    {
      "cell_type": "code",
      "execution_count": 1,
      "metadata": {
        "id": "i_oGW_17YDly"
      },
      "outputs": [],
      "source": [
        "import pandas as pd\n",
        "import sqlite3"
      ]
    },
    {
      "cell_type": "code",
      "execution_count": 3,
      "metadata": {
        "id": "mKEH6cXTeKNX"
      },
      "outputs": [],
      "source": [
        "db = 'dialects_database.db'\n",
        "csv_out_path = 'Data.csv'"
      ]
    },
    {
      "cell_type": "code",
      "execution_count": 3,
      "metadata": {
        "id": "TOksKlgafYrH"
      },
      "outputs": [],
      "source": [
        "def connect(db, is_cursure_needed=False):\n",
        "  # connect to the database using \"sqlit3\"\n",
        "  conn = sqlite3.connect(db)\n",
        "  if is_cursure_needed:\n",
        "      # create a cursor object to execute queries\n",
        "      cursor = conn.cursor()\n",
        "      return conn, cursor\n",
        "  else:\n",
        "      return conn"
      ]
    },
    {
      "cell_type": "markdown",
      "metadata": {
        "id": "44QPUWCLflRv"
      },
      "source": [
        "##let's browse the data and see what it contains"
      ]
    },
    {
      "cell_type": "code",
      "execution_count": 4,
      "metadata": {
        "colab": {
          "base_uri": "https://localhost:8080/"
        },
        "id": "JABawfQ9gHO4",
        "outputId": "1246643a-b05f-4f0d-86ac-718a1da52148"
      },
      "outputs": [
        {
          "name": "stdout",
          "output_type": "stream",
          "text": [
            "Table: id_text\n",
            " Has columns: [('id',), ('text',)]\n",
            "Table: id_dialect\n",
            " Has columns: [('id',), ('dialect',)]\n"
          ]
        }
      ],
      "source": [
        "conn, cursor = connect(db, True)\n",
        "cursor.execute(\"SELECT name FROM sqlite_master WHERE type='table'\")\n",
        "tables_names = cursor.fetchall()\n",
        "for table_name in tables_names:\n",
        "    cursor.execute(f\"SELECT name FROM PRAGMA_TABLE_INFO('{table_name[0]}')\")\n",
        "    print(f'Table: {table_name[0]}\\n Has columns: {cursor.fetchall()}')\n",
        "cursor.close()\n",
        "conn.close()"
      ]
    },
    {
      "cell_type": "markdown",
      "metadata": {
        "id": "481X1FmMjUyu"
      },
      "source": [
        "the output told use that there is two tables one contains the text and the other table contains the label so we need to merge these to tables on ID"
      ]
    },
    {
      "cell_type": "markdown",
      "metadata": {
        "id": "WClXovtZl_7X"
      },
      "source": [
        "## Extraction to \"DataFrame\""
      ]
    },
    {
      "cell_type": "markdown",
      "metadata": {
        "id": "AcjzycKimJyW"
      },
      "source": [
        "From the above inruation i will use pandas to read data from the data base according to certain query then save the data using bandas"
      ]
    },
    {
      "cell_type": "code",
      "execution_count": 5,
      "metadata": {
        "id": "kfxtzsmwb-gA"
      },
      "outputs": [],
      "source": [
        "conn = connect(db)\n",
        "\n",
        "query = '''\n",
        "SELECT T2.text, T1.dialect\n",
        "FROM id_dialect AS T1\n",
        "JOIN id_text AS T2 ON T1.ID = T2.ID\n",
        "'''\n",
        "\n",
        "text_dialect_DF = pd.read_sql_query(query, conn)"
      ]
    },
    {
      "cell_type": "markdown",
      "metadata": {
        "id": "egDEh6DonLIf"
      },
      "source": [
        "We need to ensure that we retrieved the whole data and not miss anything"
      ]
    },
    {
      "cell_type": "code",
      "execution_count": 6,
      "metadata": {
        "colab": {
          "base_uri": "https://localhost:8080/"
        },
        "id": "3RpXFbYndaZA",
        "outputId": "6ddec7a0-cdf4-4711-8558-b98446147ab2"
      },
      "outputs": [
        {
          "name": "stdout",
          "output_type": "stream",
          "text": [
            "Congratulations all the data were retrieved:)\n"
          ]
        }
      ],
      "source": [
        "query = \"SELECT COUNT(text) AS c FROM id_text\"\n",
        "\n",
        "if pd.read_sql_query(query, conn)['c'][0] == len(text_dialect_DF):\n",
        "    print(\"Congratulations all the data were retrieved:)\")\n",
        "else:\n",
        "    print(\"Sadly there is a missing data :(\")"
      ]
    },
    {
      "cell_type": "code",
      "execution_count": 7,
      "metadata": {
        "id": "wMo2kI1Xpf3F"
      },
      "outputs": [],
      "source": [
        "conn.close()"
      ]
    },
    {
      "cell_type": "markdown",
      "metadata": {
        "id": "s96Frbf1pFmW"
      },
      "source": [
        "##As all the data retrieved let's save it to a csv file"
      ]
    },
    {
      "cell_type": "code",
      "execution_count": 13,
      "metadata": {
        "id": "-UjZ5p5cpeVI"
      },
      "outputs": [],
      "source": [
        "text_dialect_DF.to_csv(csv_out_path, index=False)"
      ]
    },
    {
      "cell_type": "code",
      "execution_count": 4,
      "metadata": {
        "colab": {
          "base_uri": "https://localhost:8080/",
          "height": 1000
        },
        "id": "_TUUf_8cp6mS",
        "outputId": "b1abd724-477b-402f-ab0a-52858338874d"
      },
      "outputs": [
        {
          "data": {
            "text/html": [
              "<div>\n",
              "<style scoped>\n",
              "    .dataframe tbody tr th:only-of-type {\n",
              "        vertical-align: middle;\n",
              "    }\n",
              "\n",
              "    .dataframe tbody tr th {\n",
              "        vertical-align: top;\n",
              "    }\n",
              "\n",
              "    .dataframe thead th {\n",
              "        text-align: right;\n",
              "    }\n",
              "</style>\n",
              "<table border=\"1\" class=\"dataframe\">\n",
              "  <thead>\n",
              "    <tr style=\"text-align: right;\">\n",
              "      <th></th>\n",
              "      <th>text</th>\n",
              "      <th>dialect</th>\n",
              "    </tr>\n",
              "  </thead>\n",
              "  <tbody>\n",
              "    <tr>\n",
              "      <th>0</th>\n",
              "      <td>@toha_Altomy @gy_yah قليلين ادب ومنافقين. لو ا...</td>\n",
              "      <td>LY</td>\n",
              "    </tr>\n",
              "    <tr>\n",
              "      <th>1</th>\n",
              "      <td>@AlmFaisal 😂😂 الليبيين متقلبين!!!\\nبس بالنسبة ...</td>\n",
              "      <td>LY</td>\n",
              "    </tr>\n",
              "    <tr>\n",
              "      <th>2</th>\n",
              "      <td>@smsm071990 @ALMOGRBE كل 20 تانيه شاب ليبي بير...</td>\n",
              "      <td>LY</td>\n",
              "    </tr>\n",
              "    <tr>\n",
              "      <th>3</th>\n",
              "      <td>@AboryPro @lyranoo85 رانيا عقليتك متخلفة. اولا...</td>\n",
              "      <td>LY</td>\n",
              "    </tr>\n",
              "    <tr>\n",
              "      <th>4</th>\n",
              "      <td>@lyranoo85 شكلك متعقدة علشان الراجل لي تحبيه ا...</td>\n",
              "      <td>LY</td>\n",
              "    </tr>\n",
              "  </tbody>\n",
              "</table>\n",
              "</div>"
            ],
            "text/plain": [
              "                                                text dialect\n",
              "0  @toha_Altomy @gy_yah قليلين ادب ومنافقين. لو ا...      LY\n",
              "1  @AlmFaisal 😂😂 الليبيين متقلبين!!!\\nبس بالنسبة ...      LY\n",
              "2  @smsm071990 @ALMOGRBE كل 20 تانيه شاب ليبي بير...      LY\n",
              "3  @AboryPro @lyranoo85 رانيا عقليتك متخلفة. اولا...      LY\n",
              "4  @lyranoo85 شكلك متعقدة علشان الراجل لي تحبيه ا...      LY"
            ]
          },
          "execution_count": 4,
          "metadata": {},
          "output_type": "execute_result"
        }
      ],
      "source": [
        "df = pd.read_csv(csv_out_path, chunksize=100)\n",
        "chunk = df.get_chunk(5)\n",
        "chunk.head()"
      ]
    },
    {
      "cell_type": "code",
      "execution_count": null,
      "metadata": {},
      "outputs": [],
      "source": []
    }
  ],
  "metadata": {
    "colab": {
      "provenance": []
    },
    "kernelspec": {
      "display_name": "Python 3",
      "name": "python3"
    },
    "language_info": {
      "codemirror_mode": {
        "name": "ipython",
        "version": 3
      },
      "file_extension": ".py",
      "mimetype": "text/x-python",
      "name": "python",
      "nbconvert_exporter": "python",
      "pygments_lexer": "ipython3",
      "version": "3.9.12"
    }
  },
  "nbformat": 4,
  "nbformat_minor": 0
}
